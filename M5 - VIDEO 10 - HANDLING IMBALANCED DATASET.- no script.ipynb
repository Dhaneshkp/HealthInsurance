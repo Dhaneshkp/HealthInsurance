{
  "cells": [
    {
      "cell_type": "markdown",
      "id": "4aa924ab",
      "metadata": {
        "id": "4aa924ab"
      },
      "source": [
        "### VIDEO 9: HANDLING IMBALANCED DATASET"
      ]
    },
    {
      "cell_type": "code",
      "execution_count": 2,
      "id": "4db7bcba",
      "metadata": {
        "id": "4db7bcba"
      },
      "outputs": [],
      "source": [
        "#Importing libraries\n",
        "import pandas as pd\n",
        "import numpy as np\n",
        "\n",
        "#Loading the data\n",
        "data = pd.read_csv(r\"Synergix_data_preprocessed_new.csv\")\n",
        "\n",
        "#Storing the ratio in a list named Rating_ratio\n",
        "Rating_ratio = []\n",
        "for row in data.values:\n",
        "    if(row[4]+row[5] == 0):\n",
        "        if(row[7]+row[8] == 0):\n",
        "            #If all the ratings are zero then overall rating ratio will also be zero\n",
        "            Rating_ratio.append(0.0)\n",
        "        else:\n",
        "            #If only the numerator(1 and 2 star) ratings are zero then adding -99999 to the list temporarily which\n",
        "            #will be taken care of in the next cell.\n",
        "            Rating_ratio.append(-99999)\n",
        "    else:\n",
        "        Rating_ratio.append((int(row[7])+(row[8]))/(int(row[4])+int(row[5])))\n",
        "\n",
        "#replacing -99999 with the maximum ratio in the list\n",
        "max_rating = max(Rating_ratio)\n",
        "for x in range(len(Rating_ratio)):\n",
        "    if(Rating_ratio[x] == -99999):\n",
        "        Rating_ratio[x] = max_rating\n",
        "\n",
        "#adding the column 'Good_By_Bad_Rating' to the dataframe\n",
        "data['Good_By_Bad_Rating'] = Rating_ratio\n",
        "\n",
        "data = data.drop(columns = ['1_Star_Rating', '2_Star_Rating', '3_Star_Rating', '4_Star_Rating', '5_Star_Rating'])"
      ]
    },
    {
      "cell_type": "code",
      "execution_count": 3,
      "id": "fe4071f6",
      "metadata": {
        "id": "fe4071f6"
      },
      "outputs": [],
      "source": [
        "from sklearn.preprocessing import LabelEncoder\n",
        "data [['Segment']]= data [['Segment']].apply(LabelEncoder().fit_transform)"
      ]
    },
    {
      "cell_type": "code",
      "execution_count": 4,
      "id": "25c7552b",
      "metadata": {
        "id": "25c7552b"
      },
      "outputs": [],
      "source": [
        "data = data.drop(columns = 'Units_sold',axis=1)\n",
        "\n",
        "X = data.drop(columns = 'Units_sold>1000')\n",
        "y = data['Units_sold>1000']"
      ]
    },
    {
      "cell_type": "code",
      "execution_count": 5,
      "id": "a265f0bf",
      "metadata": {
        "id": "a265f0bf"
      },
      "outputs": [],
      "source": [
        "# Importing the train-test split from scikit-learn\n",
        "from sklearn.model_selection import train_test_split\n",
        "\n",
        "# Performing train and test split\n",
        "X_train, X_test, y_train, y_test = train_test_split(X, y, test_size = 0.30, random_state = 6)"
      ]
    },
    {
      "cell_type": "code",
      "execution_count": 6,
      "id": "e762bf7a",
      "metadata": {
        "id": "e762bf7a",
        "outputId": "fba85b62-b1c8-4a21-a633-7a5ba7748f26",
        "colab": {
          "base_uri": "https://localhost:8080/",
          "height": 178
        }
      },
      "outputs": [
        {
          "output_type": "execute_result",
          "data": {
            "text/plain": [
              "Units_sold>1000\n",
              "1    0.598137\n",
              "0    0.401863\n",
              "Name: proportion, dtype: float64"
            ],
            "text/html": [
              "<div>\n",
              "<style scoped>\n",
              "    .dataframe tbody tr th:only-of-type {\n",
              "        vertical-align: middle;\n",
              "    }\n",
              "\n",
              "    .dataframe tbody tr th {\n",
              "        vertical-align: top;\n",
              "    }\n",
              "\n",
              "    .dataframe thead th {\n",
              "        text-align: right;\n",
              "    }\n",
              "</style>\n",
              "<table border=\"1\" class=\"dataframe\">\n",
              "  <thead>\n",
              "    <tr style=\"text-align: right;\">\n",
              "      <th></th>\n",
              "      <th>proportion</th>\n",
              "    </tr>\n",
              "    <tr>\n",
              "      <th>Units_sold&gt;1000</th>\n",
              "      <th></th>\n",
              "    </tr>\n",
              "  </thead>\n",
              "  <tbody>\n",
              "    <tr>\n",
              "      <th>1</th>\n",
              "      <td>0.598137</td>\n",
              "    </tr>\n",
              "    <tr>\n",
              "      <th>0</th>\n",
              "      <td>0.401863</td>\n",
              "    </tr>\n",
              "  </tbody>\n",
              "</table>\n",
              "</div><br><label><b>dtype:</b> float64</label>"
            ]
          },
          "metadata": {},
          "execution_count": 6
        }
      ],
      "source": [
        "y_train.value_counts(normalize=True)"
      ]
    },
    {
      "cell_type": "code",
      "execution_count": 7,
      "id": "60650a6a",
      "metadata": {
        "id": "60650a6a",
        "outputId": "65bf2cfa-1b82-49e8-d01c-aba41f593864",
        "colab": {
          "base_uri": "https://localhost:8080/",
          "height": 178
        }
      },
      "outputs": [
        {
          "output_type": "execute_result",
          "data": {
            "text/plain": [
              "Units_sold>1000\n",
              "1    0.614261\n",
              "0    0.385739\n",
              "Name: proportion, dtype: float64"
            ],
            "text/html": [
              "<div>\n",
              "<style scoped>\n",
              "    .dataframe tbody tr th:only-of-type {\n",
              "        vertical-align: middle;\n",
              "    }\n",
              "\n",
              "    .dataframe tbody tr th {\n",
              "        vertical-align: top;\n",
              "    }\n",
              "\n",
              "    .dataframe thead th {\n",
              "        text-align: right;\n",
              "    }\n",
              "</style>\n",
              "<table border=\"1\" class=\"dataframe\">\n",
              "  <thead>\n",
              "    <tr style=\"text-align: right;\">\n",
              "      <th></th>\n",
              "      <th>proportion</th>\n",
              "    </tr>\n",
              "    <tr>\n",
              "      <th>Units_sold&gt;1000</th>\n",
              "      <th></th>\n",
              "    </tr>\n",
              "  </thead>\n",
              "  <tbody>\n",
              "    <tr>\n",
              "      <th>1</th>\n",
              "      <td>0.614261</td>\n",
              "    </tr>\n",
              "    <tr>\n",
              "      <th>0</th>\n",
              "      <td>0.385739</td>\n",
              "    </tr>\n",
              "  </tbody>\n",
              "</table>\n",
              "</div><br><label><b>dtype:</b> float64</label>"
            ]
          },
          "metadata": {},
          "execution_count": 7
        }
      ],
      "source": [
        "y_test.value_counts(normalize=True)"
      ]
    },
    {
      "cell_type": "code",
      "execution_count": 8,
      "id": "b337fb0f",
      "metadata": {
        "id": "b337fb0f"
      },
      "outputs": [],
      "source": [
        "# Performing train test split with stratification\n",
        "X_train_st, X_test_st, y_train_st, y_test_st = train_test_split(X, y, test_size = 0.3, stratify = y, random_state = 6)"
      ]
    },
    {
      "cell_type": "code",
      "execution_count": 9,
      "id": "f552e8a8",
      "metadata": {
        "id": "f552e8a8",
        "outputId": "020a8faa-bd5a-40ae-d0f0-f9fba069ef55",
        "colab": {
          "base_uri": "https://localhost:8080/",
          "height": 178
        }
      },
      "outputs": [
        {
          "output_type": "execute_result",
          "data": {
            "text/plain": [
              "Units_sold>1000\n",
              "1    0.60294\n",
              "0    0.39706\n",
              "Name: proportion, dtype: float64"
            ],
            "text/html": [
              "<div>\n",
              "<style scoped>\n",
              "    .dataframe tbody tr th:only-of-type {\n",
              "        vertical-align: middle;\n",
              "    }\n",
              "\n",
              "    .dataframe tbody tr th {\n",
              "        vertical-align: top;\n",
              "    }\n",
              "\n",
              "    .dataframe thead th {\n",
              "        text-align: right;\n",
              "    }\n",
              "</style>\n",
              "<table border=\"1\" class=\"dataframe\">\n",
              "  <thead>\n",
              "    <tr style=\"text-align: right;\">\n",
              "      <th></th>\n",
              "      <th>proportion</th>\n",
              "    </tr>\n",
              "    <tr>\n",
              "      <th>Units_sold&gt;1000</th>\n",
              "      <th></th>\n",
              "    </tr>\n",
              "  </thead>\n",
              "  <tbody>\n",
              "    <tr>\n",
              "      <th>1</th>\n",
              "      <td>0.60294</td>\n",
              "    </tr>\n",
              "    <tr>\n",
              "      <th>0</th>\n",
              "      <td>0.39706</td>\n",
              "    </tr>\n",
              "  </tbody>\n",
              "</table>\n",
              "</div><br><label><b>dtype:</b> float64</label>"
            ]
          },
          "metadata": {},
          "execution_count": 9
        }
      ],
      "source": [
        "y_train_st.value_counts(normalize=True)"
      ]
    },
    {
      "cell_type": "code",
      "execution_count": 10,
      "id": "ef4f6791",
      "metadata": {
        "id": "ef4f6791",
        "outputId": "516f9389-d484-4cf9-f568-737b64a42e3d",
        "colab": {
          "base_uri": "https://localhost:8080/",
          "height": 178
        }
      },
      "outputs": [
        {
          "output_type": "execute_result",
          "data": {
            "text/plain": [
              "Units_sold>1000\n",
              "1    0.603056\n",
              "0    0.396944\n",
              "Name: proportion, dtype: float64"
            ],
            "text/html": [
              "<div>\n",
              "<style scoped>\n",
              "    .dataframe tbody tr th:only-of-type {\n",
              "        vertical-align: middle;\n",
              "    }\n",
              "\n",
              "    .dataframe tbody tr th {\n",
              "        vertical-align: top;\n",
              "    }\n",
              "\n",
              "    .dataframe thead th {\n",
              "        text-align: right;\n",
              "    }\n",
              "</style>\n",
              "<table border=\"1\" class=\"dataframe\">\n",
              "  <thead>\n",
              "    <tr style=\"text-align: right;\">\n",
              "      <th></th>\n",
              "      <th>proportion</th>\n",
              "    </tr>\n",
              "    <tr>\n",
              "      <th>Units_sold&gt;1000</th>\n",
              "      <th></th>\n",
              "    </tr>\n",
              "  </thead>\n",
              "  <tbody>\n",
              "    <tr>\n",
              "      <th>1</th>\n",
              "      <td>0.603056</td>\n",
              "    </tr>\n",
              "    <tr>\n",
              "      <th>0</th>\n",
              "      <td>0.396944</td>\n",
              "    </tr>\n",
              "  </tbody>\n",
              "</table>\n",
              "</div><br><label><b>dtype:</b> float64</label>"
            ]
          },
          "metadata": {},
          "execution_count": 10
        }
      ],
      "source": [
        "y_test_st.value_counts(normalize=True)"
      ]
    },
    {
      "cell_type": "code",
      "execution_count": 11,
      "id": "2a036a51",
      "metadata": {
        "id": "2a036a51"
      },
      "outputs": [],
      "source": [
        "from sklearn.tree import DecisionTreeClassifier\n",
        "DT_model = DecisionTreeClassifier(max_depth = 11, min_samples_leaf= 6, random_state=42, class_weight = 'balanced')"
      ]
    },
    {
      "cell_type": "code",
      "execution_count": 12,
      "id": "d704f459",
      "metadata": {
        "id": "d704f459",
        "outputId": "d683aea5-e30b-4f52-88c5-bd49ff9ea552",
        "scrolled": true,
        "colab": {
          "base_uri": "https://localhost:8080/",
          "height": 92
        }
      },
      "outputs": [
        {
          "output_type": "execute_result",
          "data": {
            "text/plain": [
              "DecisionTreeClassifier(class_weight='balanced', max_depth=11,\n",
              "                       min_samples_leaf=6, random_state=42)"
            ],
            "text/html": [
              "<style>#sk-container-id-1 {color: black;}#sk-container-id-1 pre{padding: 0;}#sk-container-id-1 div.sk-toggleable {background-color: white;}#sk-container-id-1 label.sk-toggleable__label {cursor: pointer;display: block;width: 100%;margin-bottom: 0;padding: 0.3em;box-sizing: border-box;text-align: center;}#sk-container-id-1 label.sk-toggleable__label-arrow:before {content: \"▸\";float: left;margin-right: 0.25em;color: #696969;}#sk-container-id-1 label.sk-toggleable__label-arrow:hover:before {color: black;}#sk-container-id-1 div.sk-estimator:hover label.sk-toggleable__label-arrow:before {color: black;}#sk-container-id-1 div.sk-toggleable__content {max-height: 0;max-width: 0;overflow: hidden;text-align: left;background-color: #f0f8ff;}#sk-container-id-1 div.sk-toggleable__content pre {margin: 0.2em;color: black;border-radius: 0.25em;background-color: #f0f8ff;}#sk-container-id-1 input.sk-toggleable__control:checked~div.sk-toggleable__content {max-height: 200px;max-width: 100%;overflow: auto;}#sk-container-id-1 input.sk-toggleable__control:checked~label.sk-toggleable__label-arrow:before {content: \"▾\";}#sk-container-id-1 div.sk-estimator input.sk-toggleable__control:checked~label.sk-toggleable__label {background-color: #d4ebff;}#sk-container-id-1 div.sk-label input.sk-toggleable__control:checked~label.sk-toggleable__label {background-color: #d4ebff;}#sk-container-id-1 input.sk-hidden--visually {border: 0;clip: rect(1px 1px 1px 1px);clip: rect(1px, 1px, 1px, 1px);height: 1px;margin: -1px;overflow: hidden;padding: 0;position: absolute;width: 1px;}#sk-container-id-1 div.sk-estimator {font-family: monospace;background-color: #f0f8ff;border: 1px dotted black;border-radius: 0.25em;box-sizing: border-box;margin-bottom: 0.5em;}#sk-container-id-1 div.sk-estimator:hover {background-color: #d4ebff;}#sk-container-id-1 div.sk-parallel-item::after {content: \"\";width: 100%;border-bottom: 1px solid gray;flex-grow: 1;}#sk-container-id-1 div.sk-label:hover label.sk-toggleable__label {background-color: #d4ebff;}#sk-container-id-1 div.sk-serial::before {content: \"\";position: absolute;border-left: 1px solid gray;box-sizing: border-box;top: 0;bottom: 0;left: 50%;z-index: 0;}#sk-container-id-1 div.sk-serial {display: flex;flex-direction: column;align-items: center;background-color: white;padding-right: 0.2em;padding-left: 0.2em;position: relative;}#sk-container-id-1 div.sk-item {position: relative;z-index: 1;}#sk-container-id-1 div.sk-parallel {display: flex;align-items: stretch;justify-content: center;background-color: white;position: relative;}#sk-container-id-1 div.sk-item::before, #sk-container-id-1 div.sk-parallel-item::before {content: \"\";position: absolute;border-left: 1px solid gray;box-sizing: border-box;top: 0;bottom: 0;left: 50%;z-index: -1;}#sk-container-id-1 div.sk-parallel-item {display: flex;flex-direction: column;z-index: 1;position: relative;background-color: white;}#sk-container-id-1 div.sk-parallel-item:first-child::after {align-self: flex-end;width: 50%;}#sk-container-id-1 div.sk-parallel-item:last-child::after {align-self: flex-start;width: 50%;}#sk-container-id-1 div.sk-parallel-item:only-child::after {width: 0;}#sk-container-id-1 div.sk-dashed-wrapped {border: 1px dashed gray;margin: 0 0.4em 0.5em 0.4em;box-sizing: border-box;padding-bottom: 0.4em;background-color: white;}#sk-container-id-1 div.sk-label label {font-family: monospace;font-weight: bold;display: inline-block;line-height: 1.2em;}#sk-container-id-1 div.sk-label-container {text-align: center;}#sk-container-id-1 div.sk-container {/* jupyter's `normalize.less` sets `[hidden] { display: none; }` but bootstrap.min.css set `[hidden] { display: none !important; }` so we also need the `!important` here to be able to override the default hidden behavior on the sphinx rendered scikit-learn.org. See: https://github.com/scikit-learn/scikit-learn/issues/21755 */display: inline-block !important;position: relative;}#sk-container-id-1 div.sk-text-repr-fallback {display: none;}</style><div id=\"sk-container-id-1\" class=\"sk-top-container\"><div class=\"sk-text-repr-fallback\"><pre>DecisionTreeClassifier(class_weight=&#x27;balanced&#x27;, max_depth=11,\n",
              "                       min_samples_leaf=6, random_state=42)</pre><b>In a Jupyter environment, please rerun this cell to show the HTML representation or trust the notebook. <br />On GitHub, the HTML representation is unable to render, please try loading this page with nbviewer.org.</b></div><div class=\"sk-container\" hidden><div class=\"sk-item\"><div class=\"sk-estimator sk-toggleable\"><input class=\"sk-toggleable__control sk-hidden--visually\" id=\"sk-estimator-id-1\" type=\"checkbox\" checked><label for=\"sk-estimator-id-1\" class=\"sk-toggleable__label sk-toggleable__label-arrow\">DecisionTreeClassifier</label><div class=\"sk-toggleable__content\"><pre>DecisionTreeClassifier(class_weight=&#x27;balanced&#x27;, max_depth=11,\n",
              "                       min_samples_leaf=6, random_state=42)</pre></div></div></div></div></div>"
            ]
          },
          "metadata": {},
          "execution_count": 12
        }
      ],
      "source": [
        "# Train the model\n",
        "DT_model.fit(X_train_st, y_train_st)"
      ]
    },
    {
      "cell_type": "code",
      "execution_count": 13,
      "id": "6a742c4e",
      "metadata": {
        "id": "6a742c4e",
        "outputId": "fbacc2d7-26e7-4013-ff9d-36baac2ed6a5",
        "colab": {
          "base_uri": "https://localhost:8080/"
        }
      },
      "outputs": [
        {
          "output_type": "stream",
          "name": "stdout",
          "text": [
            "Train score:  0.8870789957134109\n",
            "Test score:  0.8261986301369862\n"
          ]
        }
      ],
      "source": [
        "from sklearn.metrics import f1_score\n",
        "\n",
        "# Make predictions on the train dataset\n",
        "y_train_pred = DT_model.predict(X_train_st)\n",
        "\n",
        "# Make predictions on the test dataset\n",
        "y_test_pred = DT_model.predict(X_test_st)\n",
        "\n",
        "# Let's display the model performance on the train and test data.\n",
        "\n",
        "print('Train score: ', f1_score(y_train_st, y_train_pred))\n",
        "print('Test score: ', f1_score(y_test_st, y_test_pred))"
      ]
    },
    {
      "cell_type": "markdown",
      "id": "0fcfafbb",
      "metadata": {
        "id": "0fcfafbb"
      },
      "source": [
        "---"
      ]
    },
    {
      "cell_type": "markdown",
      "id": "e4adaab1",
      "metadata": {
        "id": "e4adaab1"
      },
      "source": [
        "### Undersampling"
      ]
    },
    {
      "cell_type": "code",
      "execution_count": null,
      "id": "1f6878c8",
      "metadata": {
        "scrolled": true,
        "id": "1f6878c8"
      },
      "outputs": [],
      "source": [
        "#pip install --upgrade scikit-learn imbalanced-learn"
      ]
    },
    {
      "cell_type": "code",
      "execution_count": 14,
      "id": "93921b1d",
      "metadata": {
        "id": "93921b1d",
        "scrolled": true,
        "outputId": "e881c42e-da2b-4c4a-868e-7316fd61b8a1",
        "colab": {
          "base_uri": "https://localhost:8080/"
        }
      },
      "outputs": [
        {
          "output_type": "stream",
          "name": "stdout",
          "text": [
            "Collecting imblearn\n",
            "  Downloading imblearn-0.0-py2.py3-none-any.whl.metadata (355 bytes)\n",
            "Requirement already satisfied: imbalanced-learn in /usr/local/lib/python3.10/dist-packages (from imblearn) (0.12.3)\n",
            "Requirement already satisfied: numpy>=1.17.3 in /usr/local/lib/python3.10/dist-packages (from imbalanced-learn->imblearn) (1.26.4)\n",
            "Requirement already satisfied: scipy>=1.5.0 in /usr/local/lib/python3.10/dist-packages (from imbalanced-learn->imblearn) (1.13.1)\n",
            "Requirement already satisfied: scikit-learn>=1.0.2 in /usr/local/lib/python3.10/dist-packages (from imbalanced-learn->imblearn) (1.3.2)\n",
            "Requirement already satisfied: joblib>=1.1.1 in /usr/local/lib/python3.10/dist-packages (from imbalanced-learn->imblearn) (1.4.2)\n",
            "Requirement already satisfied: threadpoolctl>=2.0.0 in /usr/local/lib/python3.10/dist-packages (from imbalanced-learn->imblearn) (3.5.0)\n",
            "Downloading imblearn-0.0-py2.py3-none-any.whl (1.9 kB)\n",
            "Installing collected packages: imblearn\n",
            "Successfully installed imblearn-0.0\n"
          ]
        }
      ],
      "source": [
        "!pip install imblearn"
      ]
    },
    {
      "cell_type": "code",
      "execution_count": 15,
      "id": "6381ea38",
      "metadata": {
        "id": "6381ea38"
      },
      "outputs": [],
      "source": [
        "from imblearn.under_sampling import RandomUnderSampler"
      ]
    },
    {
      "cell_type": "code",
      "execution_count": 16,
      "id": "db6c1da4",
      "metadata": {
        "id": "db6c1da4",
        "outputId": "ead53ced-36fc-4e63-d8cc-e135f0c25674",
        "colab": {
          "base_uri": "https://localhost:8080/"
        }
      },
      "outputs": [
        {
          "output_type": "execute_result",
          "data": {
            "text/plain": [
              "array([[3.17500000e+03, 9.37300843e+00, 1.00000000e+00, ...,\n",
              "        0.00000000e+00, 0.00000000e+00, 8.23076923e+00],\n",
              "       [3.26600000e+03, 1.64978139e+01, 1.00000000e+00, ...,\n",
              "        9.99049800e+06, 6.00000000e+00, 4.50000000e+01],\n",
              "       [4.90200000e+03, 2.02381616e+01, 1.00000000e+00, ...,\n",
              "        0.00000000e+00, 0.00000000e+00, 1.39716981e+01],\n",
              "       ...,\n",
              "       [5.18700000e+03, 1.96472727e+01, 2.00000000e+00, ...,\n",
              "        0.00000000e+00, 0.00000000e+00, 1.85118110e+01],\n",
              "       [3.16500000e+03, 1.98898734e+01, 1.00000000e+00, ...,\n",
              "        7.53972300e+06, 2.00000000e+00, 1.57222222e+01],\n",
              "       [3.18500000e+03, 1.68407692e+01, 1.00000000e+00, ...,\n",
              "        0.00000000e+00, 0.00000000e+00, 1.81569767e+01]])"
            ]
          },
          "metadata": {},
          "execution_count": 16
        }
      ],
      "source": [
        "X_train.values"
      ]
    },
    {
      "cell_type": "code",
      "execution_count": 20,
      "id": "fa7d5348",
      "metadata": {
        "id": "fa7d5348"
      },
      "outputs": [],
      "source": [
        "sampler = RandomUnderSampler(random_state = 42)\n",
        "X_train_rus, y_train_rus = sampler.fit_resample(X_train, y_train)"
      ]
    },
    {
      "cell_type": "code",
      "execution_count": 21,
      "id": "31e0d0ac",
      "metadata": {
        "id": "31e0d0ac",
        "outputId": "2794cb56-59d1-4ecd-9342-3dd027823392",
        "scrolled": false,
        "colab": {
          "base_uri": "https://localhost:8080/"
        }
      },
      "outputs": [
        {
          "output_type": "stream",
          "name": "stdout",
          "text": [
            "Units_sold>1000\n",
            "0    0.5\n",
            "1    0.5\n",
            "Name: proportion, dtype: float64\n"
          ]
        }
      ],
      "source": [
        "print(y_train_rus.value_counts(normalize = True))"
      ]
    },
    {
      "cell_type": "code",
      "execution_count": 22,
      "id": "d88cfd96",
      "metadata": {
        "id": "d88cfd96",
        "outputId": "5beba115-df1c-4582-86e6-11fef4eda06e",
        "colab": {
          "base_uri": "https://localhost:8080/"
        }
      },
      "outputs": [
        {
          "output_type": "stream",
          "name": "stdout",
          "text": [
            "Train F1 Score:  0.8667085539897674\n",
            "Test F1 Score:  0.8229858504187121\n"
          ]
        }
      ],
      "source": [
        "DT_model = DecisionTreeClassifier(max_depth = 11, min_samples_leaf= 6, random_state=42)\n",
        "\n",
        "DT_model.fit(X_train_rus, y_train_rus)\n",
        "\n",
        "y_train_pred = DT_model.predict(X_train_rus)\n",
        "y_pred = DT_model.predict(X_test)\n",
        "\n",
        "\n",
        "print('Train F1 Score: ', f1_score(y_train_rus, y_train_pred))\n",
        "print('Test F1 Score: ', f1_score(y_test, y_pred))"
      ]
    },
    {
      "cell_type": "markdown",
      "id": "57e84067",
      "metadata": {
        "id": "57e84067"
      },
      "source": [
        "### Random oversampling"
      ]
    },
    {
      "cell_type": "code",
      "execution_count": 23,
      "id": "265e65e6",
      "metadata": {
        "id": "265e65e6"
      },
      "outputs": [],
      "source": [
        "from imblearn.over_sampling import RandomOverSampler"
      ]
    },
    {
      "cell_type": "code",
      "execution_count": 24,
      "id": "0b41fce8",
      "metadata": {
        "id": "0b41fce8"
      },
      "outputs": [],
      "source": [
        "sampler = RandomOverSampler(random_state = 42)\n",
        "X_train_ros, y_train_ros = sampler.fit_resample(X_train, y_train)"
      ]
    },
    {
      "cell_type": "code",
      "execution_count": 25,
      "id": "39cdfe36",
      "metadata": {
        "id": "39cdfe36",
        "outputId": "cce095ce-b446-4cb9-a9dc-9a67aa1cc5e3",
        "colab": {
          "base_uri": "https://localhost:8080/",
          "height": 178
        }
      },
      "outputs": [
        {
          "output_type": "execute_result",
          "data": {
            "text/plain": [
              "Units_sold>1000\n",
              "1    0.5\n",
              "0    0.5\n",
              "Name: proportion, dtype: float64"
            ],
            "text/html": [
              "<div>\n",
              "<style scoped>\n",
              "    .dataframe tbody tr th:only-of-type {\n",
              "        vertical-align: middle;\n",
              "    }\n",
              "\n",
              "    .dataframe tbody tr th {\n",
              "        vertical-align: top;\n",
              "    }\n",
              "\n",
              "    .dataframe thead th {\n",
              "        text-align: right;\n",
              "    }\n",
              "</style>\n",
              "<table border=\"1\" class=\"dataframe\">\n",
              "  <thead>\n",
              "    <tr style=\"text-align: right;\">\n",
              "      <th></th>\n",
              "      <th>proportion</th>\n",
              "    </tr>\n",
              "    <tr>\n",
              "      <th>Units_sold&gt;1000</th>\n",
              "      <th></th>\n",
              "    </tr>\n",
              "  </thead>\n",
              "  <tbody>\n",
              "    <tr>\n",
              "      <th>1</th>\n",
              "      <td>0.5</td>\n",
              "    </tr>\n",
              "    <tr>\n",
              "      <th>0</th>\n",
              "      <td>0.5</td>\n",
              "    </tr>\n",
              "  </tbody>\n",
              "</table>\n",
              "</div><br><label><b>dtype:</b> float64</label>"
            ]
          },
          "metadata": {},
          "execution_count": 25
        }
      ],
      "source": [
        "y_train_ros.value_counts(normalize = True)"
      ]
    },
    {
      "cell_type": "code",
      "execution_count": 26,
      "id": "61ae8273",
      "metadata": {
        "id": "61ae8273",
        "outputId": "e0195f09-94e1-4523-9091-0bb22255d296",
        "colab": {
          "base_uri": "https://localhost:8080/"
        }
      },
      "outputs": [
        {
          "output_type": "stream",
          "name": "stdout",
          "text": [
            "Train F1 Score:  0.8634057971014493\n",
            "Test F1 Score:  0.829598308668076\n"
          ]
        }
      ],
      "source": [
        "DT_model = DecisionTreeClassifier(max_depth = 11, min_samples_leaf= 6, random_state=42)\n",
        "\n",
        "DT_model.fit(X_train_ros, y_train_ros)\n",
        "\n",
        "y_train_pred = DT_model.predict(X_train_ros)\n",
        "y_pred = DT_model.predict(X_test)\n",
        "\n",
        "y_train_pred = DT_model.predict(X_train_ros)\n",
        "y_pred = DT_model.predict(X_test)\n",
        "\n",
        "# Printing the F1 score of the train and test data\n",
        "print('Train F1 Score: ', f1_score(y_train_ros, y_train_pred))\n",
        "print('Test F1 Score: ', f1_score(y_test, y_pred))"
      ]
    },
    {
      "cell_type": "markdown",
      "id": "1d5d9b38",
      "metadata": {
        "id": "1d5d9b38"
      },
      "source": [
        "#### SMOTE"
      ]
    },
    {
      "cell_type": "code",
      "execution_count": 27,
      "id": "06ff675a",
      "metadata": {
        "id": "06ff675a"
      },
      "outputs": [],
      "source": [
        "from imblearn.over_sampling import SMOTE"
      ]
    },
    {
      "cell_type": "code",
      "execution_count": 29,
      "id": "9f8867ba",
      "metadata": {
        "id": "9f8867ba"
      },
      "outputs": [],
      "source": [
        "smote = SMOTE(random_state = 42)"
      ]
    },
    {
      "cell_type": "code",
      "execution_count": 30,
      "id": "132a0e81",
      "metadata": {
        "id": "132a0e81"
      },
      "outputs": [],
      "source": [
        "X_train_smt, y_train_smt = smote.fit_resample(X_train,y_train)"
      ]
    },
    {
      "cell_type": "code",
      "execution_count": 31,
      "id": "7f94eb7c",
      "metadata": {
        "id": "7f94eb7c",
        "outputId": "0916de21-5da2-4239-9b84-81b4ab218eba",
        "colab": {
          "base_uri": "https://localhost:8080/",
          "height": 178
        }
      },
      "outputs": [
        {
          "output_type": "execute_result",
          "data": {
            "text/plain": [
              "Units_sold>1000\n",
              "1    0.5\n",
              "0    0.5\n",
              "Name: proportion, dtype: float64"
            ],
            "text/html": [
              "<div>\n",
              "<style scoped>\n",
              "    .dataframe tbody tr th:only-of-type {\n",
              "        vertical-align: middle;\n",
              "    }\n",
              "\n",
              "    .dataframe tbody tr th {\n",
              "        vertical-align: top;\n",
              "    }\n",
              "\n",
              "    .dataframe thead th {\n",
              "        text-align: right;\n",
              "    }\n",
              "</style>\n",
              "<table border=\"1\" class=\"dataframe\">\n",
              "  <thead>\n",
              "    <tr style=\"text-align: right;\">\n",
              "      <th></th>\n",
              "      <th>proportion</th>\n",
              "    </tr>\n",
              "    <tr>\n",
              "      <th>Units_sold&gt;1000</th>\n",
              "      <th></th>\n",
              "    </tr>\n",
              "  </thead>\n",
              "  <tbody>\n",
              "    <tr>\n",
              "      <th>1</th>\n",
              "      <td>0.5</td>\n",
              "    </tr>\n",
              "    <tr>\n",
              "      <th>0</th>\n",
              "      <td>0.5</td>\n",
              "    </tr>\n",
              "  </tbody>\n",
              "</table>\n",
              "</div><br><label><b>dtype:</b> float64</label>"
            ]
          },
          "metadata": {},
          "execution_count": 31
        }
      ],
      "source": [
        "y_train_smt.value_counts(normalize = True)"
      ]
    },
    {
      "cell_type": "code",
      "execution_count": 32,
      "id": "dd73281a",
      "metadata": {
        "id": "dd73281a",
        "outputId": "22f9f2f0-0808-424b-8879-1bfebd8379a8",
        "colab": {
          "base_uri": "https://localhost:8080/"
        }
      },
      "outputs": [
        {
          "output_type": "stream",
          "name": "stdout",
          "text": [
            "Training F1 score:  0.8627522489666909\n",
            "Testing F1 score:  0.8321230243485691\n"
          ]
        }
      ],
      "source": [
        "DT_model = DecisionTreeClassifier(max_depth = 11, min_samples_leaf= 6, random_state=42)\n",
        "DT_model.fit(X_train_smt, y_train_smt)\n",
        "\n",
        "\n",
        "#Making predictions\n",
        "y_train_pred = DT_model.predict(X_train_smt)\n",
        "y_pred = DT_model.predict(X_test)\n",
        "\n",
        "#Evaluating the model\n",
        "print('Training F1 score: ', f1_score(y_train_smt, y_train_pred))\n",
        "print('Testing F1 score: ', f1_score(y_test, y_pred))"
      ]
    },
    {
      "cell_type": "code",
      "execution_count": null,
      "id": "eb5021b9",
      "metadata": {
        "id": "eb5021b9"
      },
      "outputs": [],
      "source": []
    }
  ],
  "metadata": {
    "colab": {
      "provenance": []
    },
    "kernelspec": {
      "display_name": "Python 3 (ipykernel)",
      "language": "python",
      "name": "python3"
    },
    "language_info": {
      "codemirror_mode": {
        "name": "ipython",
        "version": 3
      },
      "file_extension": ".py",
      "mimetype": "text/x-python",
      "name": "python",
      "nbconvert_exporter": "python",
      "pygments_lexer": "ipython3",
      "version": "3.11.5"
    }
  },
  "nbformat": 4,
  "nbformat_minor": 5
}